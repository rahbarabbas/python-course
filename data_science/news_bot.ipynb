{
 "cells": [
  {
   "cell_type": "code",
   "execution_count": 1,
   "metadata": {},
   "outputs": [],
   "source": [
    "import requests\n",
    "from bs4 import BeautifulSoup"
   ]
  },
  {
   "cell_type": "code",
   "execution_count": 2,
   "metadata": {},
   "outputs": [],
   "source": [
    "def get_soup(url):\n",
    "    page=requests.get(url)\n",
    "    return BeautifulSoup(page.text)"
   ]
  },
  {
   "cell_type": "code",
   "execution_count": 3,
   "metadata": {},
   "outputs": [],
   "source": [
    "soup=get_soup('https://www.ndtv.com/latest')"
   ]
  },
  {
   "cell_type": "code",
   "execution_count": 5,
   "metadata": {},
   "outputs": [],
   "source": [
    "target=soup.find('div',attrs={'class':'lisingNews'})"
   ]
  },
  {
   "cell_type": "code",
   "execution_count": 6,
   "metadata": {},
   "outputs": [
    {
     "name": "stdout",
     "output_type": "stream",
     "text": [
      "17\n"
     ]
    }
   ],
   "source": [
    "newslist=target.find_all('div',attrs={'class':'news_Itm'})\n",
    "print(len(newslist))"
   ]
  },
  {
   "cell_type": "code",
   "execution_count": 14,
   "metadata": {},
   "outputs": [
    {
     "name": "stdout",
     "output_type": "stream",
     "text": [
      "Queen Elizabeth Updates: Charles To Be Proclaimed King Today\n",
      "Australia vs New Zealand: Marcus Stoinis, David Warner Out Of 3rd ODI\n",
      "\"Will Be Five Kilos Less\": On Virat Kohli's Ton, Ex-India Coach Ravi Shastri's Out Of The Box Take\n",
      "\"Maharani Elizabeth ko...\": British Envoy Mourns Queen's Death In Hindi\n",
      "How Shilpa Shetty Wished Birthday To Husband Raj Kundra\n",
      "Assam Chief Minister's Rahul Gandhi Cartoon Gets A Counter From 2010\n",
      "JEECUP 2022 Counselling: Round 1 Seat Allotment Result Today; Details Here\n",
      "Queen Elizabeth To Remain On Canadian Currency \"For Years To Come\"\n",
      "Deepening Tokyo Olympics Bribery Scandal Casts Shadow Over 2030 Bid\n",
      "India Logs 5,554 New COVID-19 Cases Today, Active Cases Decline To 48,850\n",
      "Charles To Be Proclaimed King Today After Vowing \"Lifelong Service\"\n",
      "\"T20 Cricket Needs To Explore...\": Ex-India Batter On Toss Playing Crucial Role in Asia Cup\n",
      "World Suicide Prevention Day 2022: Theme, Significance, How To Identify If Someone Is Suicidal & What Can You Do\n",
      "CUET UG 2022 Answer Key: Last Date To Raise Objections Today At Cuet.samarth.ac.in\n",
      "\"King Is Back, They're Saying. But...\": Chennai Super Kings' Tweet On Virat Kohli's Ton Goes Viral\n"
     ]
    }
   ],
   "source": [
    "for news in newslist:\n",
    "    title=news.find('h2',attrs={'class':'newsHdng'})\n",
    "    if title:\n",
    "        print(title.text)"
   ]
  },
  {
   "cell_type": "code",
   "execution_count": 19,
   "metadata": {},
   "outputs": [],
   "source": [
    "data=[]\n",
    "for news in newslist:\n",
    "    title=news.find('h2',attrs={'class':'newsHdng'})\n",
    "    details=news.find('span',attrs={'class':'posted-by'})\n",
    "    content=news.find('p',attrs={'class':'newsCont'})\n",
    "    if title and details and content:\n",
    "        #print('--> HEADLINES','--'*40)\n",
    "        #print(title.text)\n",
    "        #print(content.text.strip())\n",
    "        #print(details.text.strip())\n",
    "        data.append({\n",
    "            'title':title.text.strip(),\n",
    "            'details': details.text.strip(),\n",
    "            'content':content.text.strip()\n",
    "        })\n"
   ]
  },
  {
   "cell_type": "code",
   "execution_count": 16,
   "metadata": {},
   "outputs": [],
   "source": [
    "import pandas as pd"
   ]
  },
  {
   "cell_type": "code",
   "execution_count": null,
   "metadata": {},
   "outputs": [],
   "source": []
  }
 ],
 "metadata": {
  "kernelspec": {
   "display_name": "Python 3.9.12 ('base')",
   "language": "python",
   "name": "python3"
  },
  "language_info": {
   "codemirror_mode": {
    "name": "ipython",
    "version": 3
   },
   "file_extension": ".py",
   "mimetype": "text/x-python",
   "name": "python",
   "nbconvert_exporter": "python",
   "pygments_lexer": "ipython3",
   "version": "3.9.12"
  },
  "orig_nbformat": 4,
  "vscode": {
   "interpreter": {
    "hash": "861f9c34f7302a1aedb62edfc1533c524ce2793735e6b405602ea89eb9cb2484"
   }
  }
 },
 "nbformat": 4,
 "nbformat_minor": 2
}
