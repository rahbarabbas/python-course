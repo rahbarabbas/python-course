{
 "cells": [
  {
   "cell_type": "code",
   "execution_count": 2,
   "metadata": {},
   "outputs": [],
   "source": [
    "import requests\n",
    "from bs4 import BeautifulSoup"
   ]
  },
  {
   "cell_type": "code",
   "execution_count": 3,
   "metadata": {},
   "outputs": [],
   "source": [
    "def get_soup(url):\n",
    "    page=requests.get(url)\n",
    "    return BeautifulSoup(page.text)"
   ]
  },
  {
   "cell_type": "code",
   "execution_count": 4,
   "metadata": {},
   "outputs": [],
   "source": [
    "soup=get_soup('https://www.ndtv.com/latest')"
   ]
  },
  {
   "cell_type": "code",
   "execution_count": 5,
   "metadata": {},
   "outputs": [],
   "source": [
    "target=soup.find('div',attrs={'class':'lisingNews'})"
   ]
  },
  {
   "cell_type": "code",
   "execution_count": 6,
   "metadata": {},
   "outputs": [
    {
     "name": "stdout",
     "output_type": "stream",
     "text": [
      "17\n"
     ]
    }
   ],
   "source": [
    "newslist=target.find_all('div',attrs={'class':'news_Itm'})\n",
    "print(len(newslist))"
   ]
  },
  {
   "cell_type": "code",
   "execution_count": 7,
   "metadata": {},
   "outputs": [
    {
     "name": "stdout",
     "output_type": "stream",
     "text": [
      "SEBI Tightens Initial Public Offers Rules; Mandates Past Fundraising\n",
      "Superb Jamal Musiala Guides Bayern Munich To \"Brutal\" Win Over Bayer Leverkusen\n",
      "4 Minors Accused In Hyderabad Gang-Rape Case To Be Tried As Adults\n",
      "10-Year-Old Delhi Boy Dies After Being Sexually Assaulted By 3 Friends\n",
      "Bitcoin Mining's Climate Damage Is As Bad For Earth As Beef, Fossil Fuel: Study\n",
      "Ponniyin Selvan - 1 Review: Exhilarating And Enriching, With Impressive Performances By Vikram And Cast\n",
      "National Games 2022: Fencer Bhavani Devi Wins Hat-Trick Of Gold Medals\n",
      "World Bank To Provide $530 Million Additional Aid To Ukraine Amid War\n",
      "Elon Musk Previews Tesla Robot Optimus During AI Day, Says Not Ready\n",
      "Telangana Hikes Scheduled Tribes' Quota To 10% In Jobs, Admissions\n",
      "Oracle Fined $23 Million For Bribing Officials In India, Turkey And UAE\n",
      "Global Hedge Fund Launches Plunge, Liquidations Rise Amid Turmoil\n",
      "India vs Sri Lanka, Women's Asia Cup 2022, Live Streaming: When And Where To Watch Live Telecast, Live Score\n",
      "Banks Closed For 21 Days In October, Including State Holidays. Details\n",
      "NEET PG Counselling 2022: Final Result Of Round-1 Out; Allotment Letter Today\n"
     ]
    }
   ],
   "source": [
    "for news in newslist:\n",
    "    title=news.find('h2',attrs={'class':'newsHdng'})\n",
    "    if title:\n",
    "        print(title.text)"
   ]
  },
  {
   "cell_type": "code",
   "execution_count": 8,
   "metadata": {},
   "outputs": [],
   "source": [
    "data=[]\n",
    "for news in newslist:\n",
    "    title=news.find('h2',attrs={'class':'newsHdng'})\n",
    "    details=news.find('span',attrs={'class':'posted-by'})\n",
    "    content=news.find('p',attrs={'class':'newsCont'})\n",
    "    if title and details and content:\n",
    "        #print('--> HEADLINES','--'*40)\n",
    "        #print(title.text)\n",
    "        #print(content.text.strip())\n",
    "        #print(details.text.strip())\n",
    "        data.append({\n",
    "            'title':title.text.strip(),\n",
    "            'details': details.text.strip(),\n",
    "            'content':content.text.strip()\n",
    "        })\n"
   ]
  },
  {
   "cell_type": "code",
   "execution_count": 9,
   "metadata": {},
   "outputs": [],
   "source": [
    "import pandas as pd"
   ]
  },
  {
   "cell_type": "code",
   "execution_count": 10,
   "metadata": {},
   "outputs": [],
   "source": [
    "pd.DataFrame(data).to_csv('headlines.csv')\n"
   ]
  },
  {
   "cell_type": "code",
   "execution_count": null,
   "metadata": {},
   "outputs": [],
   "source": []
  }
 ],
 "metadata": {
  "kernelspec": {
   "display_name": "Python 3.9.12 ('base')",
   "language": "python",
   "name": "python3"
  },
  "language_info": {
   "codemirror_mode": {
    "name": "ipython",
    "version": 3
   },
   "file_extension": ".py",
   "mimetype": "text/x-python",
   "name": "python",
   "nbconvert_exporter": "python",
   "pygments_lexer": "ipython3",
   "version": "3.9.12"
  },
  "orig_nbformat": 4,
  "vscode": {
   "interpreter": {
    "hash": "861f9c34f7302a1aedb62edfc1533c524ce2793735e6b405602ea89eb9cb2484"
   }
  }
 },
 "nbformat": 4,
 "nbformat_minor": 2
}
