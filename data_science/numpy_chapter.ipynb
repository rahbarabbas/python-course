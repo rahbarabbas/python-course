{
 "cells": [
  {
   "cell_type": "code",
   "execution_count": 1,
   "metadata": {},
   "outputs": [],
   "source": [
    "import numpy as np"
   ]
  },
  {
   "cell_type": "code",
   "execution_count": 4,
   "metadata": {},
   "outputs": [
    {
     "name": "stdout",
     "output_type": "stream",
     "text": [
      "[1 2 3 4 5]\n",
      "<class 'numpy.ndarray'>\n"
     ]
    }
   ],
   "source": [
    "#creation of numpy array\n",
    "x=np.array([1,2,3,4,5])\n",
    "print(x)\n",
    "print(type(x)) #ndarray"
   ]
  },
  {
   "cell_type": "code",
   "execution_count": 6,
   "metadata": {},
   "outputs": [
    {
     "name": "stdout",
     "output_type": "stream",
     "text": [
      "5\n",
      "(5,)\n",
      "1\n"
     ]
    }
   ],
   "source": [
    "# shape and size\n",
    "print(x.size)\n",
    "print(x.shape)\n",
    "print(x.ndim)"
   ]
  },
  {
   "cell_type": "code",
   "execution_count": 10,
   "metadata": {},
   "outputs": [
    {
     "name": "stdout",
     "output_type": "stream",
     "text": [
      "[[1 2 3]\n",
      " [4 5 6]]\n",
      "6\n",
      "(2, 3)\n"
     ]
    }
   ],
   "source": [
    "x2d=np.array([[1,2,3],[4,5,6]])\n",
    "print(x2d)\n",
    "#shape and size\n",
    "print(x2d.size)\n",
    "print(x2d.shape)"
   ]
  },
  {
   "cell_type": "code",
   "execution_count": 13,
   "metadata": {},
   "outputs": [
    {
     "name": "stdout",
     "output_type": "stream",
     "text": [
      "[[78 70 71 24 60]\n",
      " [87 99 74 17 91]\n",
      " [71 37 34 64 18]\n",
      " [63 87 87 98 22]\n",
      " [61 25 90 34 54]]\n"
     ]
    }
   ],
   "source": [
    "x25=np.random.randint(1,100,(5,5))\n",
    "print(x25)"
   ]
  },
  {
   "cell_type": "code",
   "execution_count": 18,
   "metadata": {},
   "outputs": [
    {
     "name": "stdout",
     "output_type": "stream",
     "text": [
      "1D matrix\n",
      "[ 1  5  9 13 17 21 25 29 33 37 41 45 49 53 57 61 65 69 73 77 81 85 89 93\n",
      " 97]\n",
      "25\n",
      "1D matrix reshaped to 2D Matrix\n",
      "[[ 1  5  9 13 17]\n",
      " [21 25 29 33 37]\n",
      " [41 45 49 53 57]\n",
      " [61 65 69 73 77]\n",
      " [81 85 89 93 97]]\n"
     ]
    }
   ],
   "source": [
    "xseq1=np.arange(1,101,4)\n",
    "print('1D matrix')\n",
    "print(xseq1)\n",
    "print(xseq1.size)\n",
    "print('1D matrix reshaped to 2D Matrix')\n",
    "print(xseq1.reshape(5,5))"
   ]
  },
  {
   "cell_type": "code",
   "execution_count": 19,
   "metadata": {},
   "outputs": [
    {
     "name": "stdout",
     "output_type": "stream",
     "text": [
      "50 elements\n",
      "1D matrix\n",
      "[  1.           3.02040816   5.04081633   7.06122449   9.08163265\n",
      "  11.10204082  13.12244898  15.14285714  17.16326531  19.18367347\n",
      "  21.20408163  23.2244898   25.24489796  27.26530612  29.28571429\n",
      "  31.30612245  33.32653061  35.34693878  37.36734694  39.3877551\n",
      "  41.40816327  43.42857143  45.44897959  47.46938776  49.48979592\n",
      "  51.51020408  53.53061224  55.55102041  57.57142857  59.59183673\n",
      "  61.6122449   63.63265306  65.65306122  67.67346939  69.69387755\n",
      "  71.71428571  73.73469388  75.75510204  77.7755102   79.79591837\n",
      "  81.81632653  83.83673469  85.85714286  87.87755102  89.89795918\n",
      "  91.91836735  93.93877551  95.95918367  97.97959184 100.        ]\n",
      "1D matrix reshaped to 2D Matrix\n",
      "[[  1.           3.02040816   5.04081633   7.06122449   9.08163265]\n",
      " [ 11.10204082  13.12244898  15.14285714  17.16326531  19.18367347]\n",
      " [ 21.20408163  23.2244898   25.24489796  27.26530612  29.28571429]\n",
      " [ 31.30612245  33.32653061  35.34693878  37.36734694  39.3877551 ]\n",
      " [ 41.40816327  43.42857143  45.44897959  47.46938776  49.48979592]\n",
      " [ 51.51020408  53.53061224  55.55102041  57.57142857  59.59183673]\n",
      " [ 61.6122449   63.63265306  65.65306122  67.67346939  69.69387755]\n",
      " [ 71.71428571  73.73469388  75.75510204  77.7755102   79.79591837]\n",
      " [ 81.81632653  83.83673469  85.85714286  87.87755102  89.89795918]\n",
      " [ 91.91836735  93.93877551  95.95918367  97.97959184 100.        ]]\n",
      "1D matrix reshaped to 3D Matrix\n",
      "[[[  1.           3.02040816]\n",
      "  [  5.04081633   7.06122449]\n",
      "  [  9.08163265  11.10204082]\n",
      "  [ 13.12244898  15.14285714]\n",
      "  [ 17.16326531  19.18367347]]\n",
      "\n",
      " [[ 21.20408163  23.2244898 ]\n",
      "  [ 25.24489796  27.26530612]\n",
      "  [ 29.28571429  31.30612245]\n",
      "  [ 33.32653061  35.34693878]\n",
      "  [ 37.36734694  39.3877551 ]]\n",
      "\n",
      " [[ 41.40816327  43.42857143]\n",
      "  [ 45.44897959  47.46938776]\n",
      "  [ 49.48979592  51.51020408]\n",
      "  [ 53.53061224  55.55102041]\n",
      "  [ 57.57142857  59.59183673]]\n",
      "\n",
      " [[ 61.6122449   63.63265306]\n",
      "  [ 65.65306122  67.67346939]\n",
      "  [ 69.69387755  71.71428571]\n",
      "  [ 73.73469388  75.75510204]\n",
      "  [ 77.7755102   79.79591837]]\n",
      "\n",
      " [[ 81.81632653  83.83673469]\n",
      "  [ 85.85714286  87.87755102]\n",
      "  [ 89.89795918  91.91836735]\n",
      "  [ 93.93877551  95.95918367]\n",
      "  [ 97.97959184 100.        ]]]\n"
     ]
    }
   ],
   "source": [
    "xseq2=np.linspace(1,100,50)\n",
    "print(xseq2.size,'elements')\n",
    "print('1D matrix')\n",
    "print(xseq2)\n",
    "print('1D matrix reshaped to 2D Matrix')\n",
    "print(xseq2.reshape(10,5))\n",
    "print('1D matrix reshaped to 3D Matrix')\n",
    "print(xseq2.reshape(5,5,2))\n"
   ]
  },
  {
   "cell_type": "code",
   "execution_count": 20,
   "metadata": {},
   "outputs": [
    {
     "name": "stdout",
     "output_type": "stream",
     "text": [
      "[[  1.           3.02040816   5.04081633   7.06122449   9.08163265]\n",
      " [ 11.10204082  13.12244898  15.14285714  17.16326531  19.18367347]\n",
      " [ 21.20408163  23.2244898   25.24489796  27.26530612  29.28571429]\n",
      " [ 31.30612245  33.32653061  35.34693878  37.36734694  39.3877551 ]\n",
      " [ 41.40816327  43.42857143  45.44897959  47.46938776  49.48979592]\n",
      " [ 51.51020408  53.53061224  55.55102041  57.57142857  59.59183673]\n",
      " [ 61.6122449   63.63265306  65.65306122  67.67346939  69.69387755]\n",
      " [ 71.71428571  73.73469388  75.75510204  77.7755102   79.79591837]\n",
      " [ 81.81632653  83.83673469  85.85714286  87.87755102  89.89795918]\n",
      " [ 91.91836735  93.93877551  95.95918367  97.97959184 100.        ]]\n"
     ]
    }
   ],
   "source": [
    "xseq2d=xseq2.reshape(10,5)\n",
    "print(xseq2d)"
   ]
  },
  {
   "cell_type": "code",
   "execution_count": 21,
   "metadata": {},
   "outputs": [
    {
     "data": {
      "text/plain": [
       "array([[1, 1, 1, 1, 1],\n",
       "       [1, 1, 1, 1, 1],\n",
       "       [1, 1, 1, 1, 1],\n",
       "       [1, 1, 1, 1, 1],\n",
       "       [1, 1, 1, 1, 1]])"
      ]
     },
     "execution_count": 21,
     "metadata": {},
     "output_type": "execute_result"
    }
   ],
   "source": [
    "np.ones((5,5),dtype='int')"
   ]
  },
  {
   "cell_type": "markdown",
   "metadata": {},
   "source": [
    "- indexing and slicing\n",
    "- boolean filter\n",
    "- maths and stats\n",
    "- methods"
   ]
  },
  {
   "cell_type": "code",
   "execution_count": 22,
   "metadata": {},
   "outputs": [
    {
     "data": {
      "text/plain": [
       "array([[78, 70, 71, 24, 60],\n",
       "       [87, 99, 74, 17, 91],\n",
       "       [71, 37, 34, 64, 18],\n",
       "       [63, 87, 87, 98, 22],\n",
       "       [61, 25, 90, 34, 54]])"
      ]
     },
     "execution_count": 22,
     "metadata": {},
     "output_type": "execute_result"
    }
   ],
   "source": [
    "x25"
   ]
  },
  {
   "cell_type": "code",
   "execution_count": 23,
   "metadata": {},
   "outputs": [
    {
     "name": "stdout",
     "output_type": "stream",
     "text": [
      "[78 70 71 24 60]\n"
     ]
    }
   ],
   "source": [
    "#first row\n",
    "print(x25[0])"
   ]
  },
  {
   "cell_type": "code",
   "execution_count": 24,
   "metadata": {},
   "outputs": [
    {
     "name": "stdout",
     "output_type": "stream",
     "text": [
      "[61 25 90 34 54]\n"
     ]
    }
   ],
   "source": [
    "#Last row\n",
    "print(x25[-1])"
   ]
  },
  {
   "cell_type": "code",
   "execution_count": 25,
   "metadata": {},
   "outputs": [
    {
     "name": "stdout",
     "output_type": "stream",
     "text": [
      "70\n"
     ]
    }
   ],
   "source": [
    "print(x25[0,1]) #same as x25[0][1]"
   ]
  },
  {
   "cell_type": "code",
   "execution_count": 26,
   "metadata": {},
   "outputs": [
    {
     "name": "stdout",
     "output_type": "stream",
     "text": [
      "[78 87 71 63 61]\n",
      "[70 99 37 87 25]\n",
      "[60 91 18 22 54]\n"
     ]
    }
   ],
   "source": [
    "#1st column\n",
    "print(x25[:,-0])\n",
    "#2nd column\n",
    "print(x25[:,1])\n",
    "#last column\n",
    "print(x25[:,-1])"
   ]
  },
  {
   "cell_type": "code",
   "execution_count": 27,
   "metadata": {},
   "outputs": [
    {
     "name": "stdout",
     "output_type": "stream",
     "text": [
      "[[78 70]\n",
      " [87 99]\n",
      " [71 37]\n",
      " [63 87]\n",
      " [61 25]]\n"
     ]
    }
   ],
   "source": [
    "# column 0 and 1 index\n",
    "print(x25[:,[0,1]])"
   ]
  },
  {
   "cell_type": "code",
   "execution_count": 29,
   "metadata": {},
   "outputs": [
    {
     "name": "stdout",
     "output_type": "stream",
     "text": [
      "[[78 70 71]\n",
      " [87 99 74]\n",
      " [71 37 34]\n",
      " [63 87 87]\n",
      " [61 25 90]]\n",
      "[[78 70 71]\n",
      " [87 99 74]\n",
      " [71 37 34]\n",
      " [63 87 87]\n",
      " [61 25 90]]\n"
     ]
    }
   ],
   "source": [
    "# column 0,1,2 index\n",
    "print(x25[:,[0,1,2]])\n",
    "#same thing as above\n",
    "print(x25[:,:3])\n"
   ]
  },
  {
   "cell_type": "code",
   "execution_count": 34,
   "metadata": {},
   "outputs": [
    {
     "name": "stdout",
     "output_type": "stream",
     "text": [
      "17\n",
      "18\n"
     ]
    }
   ],
   "source": [
    "# filtering data without numpy boolean filter is a bad idea\n",
    "for i in x25:\n",
    "    for j in i:\n",
    "        if j<20:\n",
    "            print(j)"
   ]
  },
  {
   "cell_type": "code",
   "execution_count": 35,
   "metadata": {},
   "outputs": [
    {
     "data": {
      "text/plain": [
       "array([[False, False, False, False, False],\n",
       "       [False, False, False,  True, False],\n",
       "       [False, False, False, False,  True],\n",
       "       [False, False, False, False, False],\n",
       "       [False, False, False, False, False]])"
      ]
     },
     "execution_count": 35,
     "metadata": {},
     "output_type": "execute_result"
    }
   ],
   "source": [
    "x25<=20 # boolean filter"
   ]
  },
  {
   "cell_type": "code",
   "execution_count": 36,
   "metadata": {},
   "outputs": [
    {
     "data": {
      "text/plain": [
       "array([17, 18])"
      ]
     },
     "execution_count": 36,
     "metadata": {},
     "output_type": "execute_result"
    }
   ],
   "source": [
    "x25[x25<=20]"
   ]
  },
  {
   "cell_type": "code",
   "execution_count": 37,
   "metadata": {},
   "outputs": [
    {
     "data": {
      "text/plain": [
       "array([[False, False, False,  True,  True],\n",
       "       [False, False, False, False, False],\n",
       "       [False,  True,  True,  True, False],\n",
       "       [ True, False, False, False,  True],\n",
       "       [ True,  True, False,  True,  True]])"
      ]
     },
     "execution_count": 37,
     "metadata": {},
     "output_type": "execute_result"
    }
   ],
   "source": [
    "(x25 > 20) & (x25<70)"
   ]
  },
  {
   "cell_type": "code",
   "execution_count": 38,
   "metadata": {},
   "outputs": [
    {
     "data": {
      "text/plain": [
       "array([24, 60, 37, 34, 64, 63, 22, 61, 25, 34, 54])"
      ]
     },
     "execution_count": 38,
     "metadata": {},
     "output_type": "execute_result"
    }
   ],
   "source": [
    "x25[(x25 > 20) & (x25<70)]"
   ]
  },
  {
   "cell_type": "code",
   "execution_count": 40,
   "metadata": {},
   "outputs": [
    {
     "data": {
      "text/plain": [
       "array([78, 70, 71, 24, 60, 87, 99, 74, 17, 91, 71, 37, 34, 64, 18, 63, 87,\n",
       "       87, 98, 22, 61, 25, 90, 34, 54,  1,  2,  3,  4,  5])"
      ]
     },
     "execution_count": 40,
     "metadata": {},
     "output_type": "execute_result"
    }
   ],
   "source": [
    "np.append(x25,[1,2,3,4,5])"
   ]
  },
  {
   "cell_type": "code",
   "execution_count": 45,
   "metadata": {},
   "outputs": [
    {
     "data": {
      "text/plain": [
       "array([[78, 70, 71, 24, 60],\n",
       "       [87, 99, 74, 17, 91],\n",
       "       [71, 37, 34, 64, 18],\n",
       "       [63, 87, 87, 98, 22],\n",
       "       [61, 25, 90, 34, 54],\n",
       "       [ 1,  2,  3,  5,  6]])"
      ]
     },
     "execution_count": 45,
     "metadata": {},
     "output_type": "execute_result"
    }
   ],
   "source": [
    "np.append(x25,np.array([[1,2,3,5,6]]),axis=0)"
   ]
  },
  {
   "cell_type": "code",
   "execution_count": 49,
   "metadata": {},
   "outputs": [
    {
     "name": "stdout",
     "output_type": "stream",
     "text": [
      "[[1 2 3]\n",
      " [4 5 6]]\n",
      "[[1 2]\n",
      " [3 4]\n",
      " [5 6]]\n"
     ]
    }
   ],
   "source": [
    "arr1=np.array([[1,2,3],[4,5,6]])\n",
    "arr2=np.array([[1,2],[3,4],[5,6]])\n",
    "print(arr1)\n",
    "print(arr2)"
   ]
  },
  {
   "cell_type": "code",
   "execution_count": 51,
   "metadata": {},
   "outputs": [
    {
     "name": "stdout",
     "output_type": "stream",
     "text": [
      "[[50 58]\n",
      " [32 48]\n",
      " [36  9]]\n",
      "[[37 28 36]\n",
      " [97 76 77]]\n"
     ]
    }
   ],
   "source": [
    "a=np.random.randint(1,100,(3,2))\n",
    "b=np.random.randint(1,100,(2,3))\n",
    "print(a)\n",
    "print(b)"
   ]
  },
  {
   "cell_type": "code",
   "execution_count": 53,
   "metadata": {},
   "outputs": [
    {
     "name": "stdout",
     "output_type": "stream",
     "text": [
      "(3, 2)\n",
      "(2, 3)\n"
     ]
    }
   ],
   "source": [
    "print(a.shape)\n",
    "print(b.shape)"
   ]
  },
  {
   "cell_type": "code",
   "execution_count": 54,
   "metadata": {},
   "outputs": [
    {
     "data": {
      "text/plain": [
       "array([[50, 32, 36],\n",
       "       [58, 48,  9]])"
      ]
     },
     "execution_count": 54,
     "metadata": {},
     "output_type": "execute_result"
    }
   ],
   "source": [
    "a.T # same as a.transpose()"
   ]
  },
  {
   "cell_type": "code",
   "execution_count": 56,
   "metadata": {},
   "outputs": [
    {
     "name": "stdout",
     "output_type": "stream",
     "text": [
      "[[50 58 37 97]\n",
      " [32 48 28 76]\n",
      " [36  9 36 77]]\n"
     ]
    }
   ],
   "source": [
    "print(np.hstack((a,b.T)))"
   ]
  },
  {
   "cell_type": "code",
   "execution_count": 57,
   "metadata": {},
   "outputs": [
    {
     "name": "stdout",
     "output_type": "stream",
     "text": [
      "[[50 32 36 37 28 36]\n",
      " [58 48  9 97 76 77]]\n"
     ]
    }
   ],
   "source": [
    "print(np.hstack((a.T,b)))"
   ]
  },
  {
   "cell_type": "code",
   "execution_count": 58,
   "metadata": {},
   "outputs": [
    {
     "name": "stdout",
     "output_type": "stream",
     "text": [
      "[[50 58]\n",
      " [32 48]\n",
      " [36  9]\n",
      " [37 97]\n",
      " [28 76]\n",
      " [36 77]]\n",
      "[[50 32 36]\n",
      " [58 48  9]\n",
      " [37 28 36]\n",
      " [97 76 77]]\n"
     ]
    }
   ],
   "source": [
    "print(np.vstack((a,b.T)))\n",
    "print(np.vstack((a.T,b)))"
   ]
  },
  {
   "cell_type": "code",
   "execution_count": null,
   "metadata": {},
   "outputs": [],
   "source": []
  }
 ],
 "metadata": {
  "kernelspec": {
   "display_name": "Python 3.9.12 ('base')",
   "language": "python",
   "name": "python3"
  },
  "language_info": {
   "codemirror_mode": {
    "name": "ipython",
    "version": 3
   },
   "file_extension": ".py",
   "mimetype": "text/x-python",
   "name": "python",
   "nbconvert_exporter": "python",
   "pygments_lexer": "ipython3",
   "version": "3.9.12"
  },
  "orig_nbformat": 4,
  "vscode": {
   "interpreter": {
    "hash": "861f9c34f7302a1aedb62edfc1533c524ce2793735e6b405602ea89eb9cb2484"
   }
  }
 },
 "nbformat": 4,
 "nbformat_minor": 2
}
