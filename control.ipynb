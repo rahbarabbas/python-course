{
 "cells": [
  {
   "cell_type": "code",
   "execution_count": 1,
   "metadata": {},
   "outputs": [
    {
     "name": "stdout",
     "output_type": "stream",
     "text": [
      "Even\n",
      "The end\n"
     ]
    }
   ],
   "source": [
    "x=1356\n",
    "if x%2==0:\n",
    "    print('Even')\n",
    "print('The end')"
   ]
  },
  {
   "cell_type": "code",
   "execution_count": 3,
   "metadata": {},
   "outputs": [
    {
     "name": "stdout",
     "output_type": "stream",
     "text": [
      "Even\n",
      "The end\n"
     ]
    }
   ],
   "source": [
    "x=1356\n",
    "if x%2==0:\n",
    "    print('Even')\n",
    "    print('The end')#indentation"
   ]
  },
  {
   "cell_type": "code",
   "execution_count": 7,
   "metadata": {},
   "outputs": [
    {
     "name": "stdout",
     "output_type": "stream",
     "text": [
      "Bad input\n"
     ]
    }
   ],
   "source": [
    "num=input('Enter a number')\n",
    "if num.isnumeric():\n",
    "    print('Well done')\n",
    "    num=int(num)\n",
    "else:\n",
    "    print('Bad input')"
   ]
  },
  {
   "cell_type": "code",
   "execution_count": 9,
   "metadata": {},
   "outputs": [
    {
     "name": "stdout",
     "output_type": "stream",
     "text": [
      "Welcome to WWE\n"
     ]
    }
   ],
   "source": [
    "username='John Cena'\n",
    "email='john@gmail.com'\n",
    "password='qwerty'\n",
    "if username=='John Cena':\n",
    "    if email=='john@gmail.com':\n",
    "        if password=='qwerty':\n",
    "            print('Welcome to WWE')\n",
    "        else:\n",
    "            print('Wrong password')\n",
    "    else:\n",
    "        print('Wrong email')\n",
    "else:\n",
    "    print('Wrong name')"
   ]
  },
  {
   "cell_type": "code",
   "execution_count": 10,
   "metadata": {},
   "outputs": [
    {
     "name": "stdout",
     "output_type": "stream",
     "text": [
      "Wrong name\n"
     ]
    }
   ],
   "source": [
    "username=input('Enter name')\n",
    "email=input('Enter email')\n",
    "password=input('Enter Password')\n",
    "if username=='John Cena':\n",
    "    if email=='john@gmail.com':\n",
    "        if password=='qwerty':\n",
    "            print('Welcome to WWE')\n",
    "        else:\n",
    "            print('Wrong password')\n",
    "    else:\n",
    "        print('Wrong email')\n",
    "else:\n",
    "    print('Wrong name')"
   ]
  },
  {
   "cell_type": "code",
   "execution_count": 11,
   "metadata": {},
   "outputs": [
    {
     "name": "stdout",
     "output_type": "stream",
     "text": [
      "Wrong password\n"
     ]
    }
   ],
   "source": [
    "username=input('Enter name')\n",
    "email=input('Enter email')\n",
    "password=input('Enter Password')\n",
    "if username=='John Cena':\n",
    "    if email=='john@gmail.com':\n",
    "        if password=='qwerty':\n",
    "            print('Welcome to WWE')\n",
    "        else:\n",
    "            print('Wrong password')\n",
    "    else:\n",
    "        print('Wrong email')\n",
    "else:\n",
    "    print('Wrong name')"
   ]
  },
  {
   "cell_type": "code",
   "execution_count": 12,
   "metadata": {},
   "outputs": [
    {
     "name": "stdout",
     "output_type": "stream",
     "text": [
      "Welcome to WWE\n"
     ]
    }
   ],
   "source": [
    "username=input('Enter name')\n",
    "email=input('Enter email')\n",
    "password=input('Enter Password')\n",
    "if username=='John Cena':\n",
    "    if email=='john@gmail.com':\n",
    "        if password=='qwerty':\n",
    "            print('Welcome to WWE')\n",
    "        else:\n",
    "            print('Wrong password')\n",
    "    else:\n",
    "        print('Wrong email')\n",
    "else:\n",
    "    print('Wrong name')"
   ]
  },
  {
   "cell_type": "code",
   "execution_count": 14,
   "metadata": {},
   "outputs": [
    {
     "name": "stdout",
     "output_type": "stream",
     "text": [
      "Wrong username\n"
     ]
    }
   ],
   "source": [
    "username=input('Enter name')\n",
    "email=input('Enter email')\n",
    "password=input('Enter Password')\n",
    "if username!='John Cena':\n",
    "    print('Wrong username')\n",
    "elif password!='qwerty':\n",
    "    print('Wrong password')\n",
    "elif email!='john@gmail.com':\n",
    "    print('Wrong email')\n",
    "else:\n",
    "    print('Welcome to WWE')"
   ]
  },
  {
   "cell_type": "code",
   "execution_count": 19,
   "metadata": {},
   "outputs": [
    {
     "name": "stdout",
     "output_type": "stream",
     "text": [
      "Grade A\n"
     ]
    }
   ],
   "source": [
    "marks=input('Enter the marks')\n",
    "if not marks.isnumeric():\n",
    "    print('Invalid')\n",
    "else:\n",
    "    marks=int(marks)\n",
    "if marks>=90:\n",
    "    print('Grade A')\n",
    "elif marks>=80:\n",
    "    print('Grade B')\n",
    "elif marks>=70:\n",
    "    print('Grade C')\n",
    "elif marks>=60:\n",
    "    print('Grade D')\n",
    "elif marks<60:\n",
    "    print('Grade F')\n"
   ]
  },
  {
   "cell_type": "code",
   "execution_count": null,
   "metadata": {},
   "outputs": [],
   "source": []
  }
 ],
 "metadata": {
  "kernelspec": {
   "display_name": "Python 3.9.12 ('base')",
   "language": "python",
   "name": "python3"
  },
  "language_info": {
   "codemirror_mode": {
    "name": "ipython",
    "version": 3
   },
   "file_extension": ".py",
   "mimetype": "text/x-python",
   "name": "python",
   "nbconvert_exporter": "python",
   "pygments_lexer": "ipython3",
   "version": "3.9.12"
  },
  "orig_nbformat": 4,
  "vscode": {
   "interpreter": {
    "hash": "861f9c34f7302a1aedb62edfc1533c524ce2793735e6b405602ea89eb9cb2484"
   }
  }
 },
 "nbformat": 4,
 "nbformat_minor": 2
}
