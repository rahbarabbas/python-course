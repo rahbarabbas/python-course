{
 "cells": [
  {
   "cell_type": "code",
   "execution_count": 1,
   "metadata": {},
   "outputs": [
    {
     "name": "stdout",
     "output_type": "stream",
     "text": [
      "Even\n",
      "The end\n"
     ]
    }
   ],
   "source": [
    "x=1356\n",
    "if x%2==0:\n",
    "    print('Even')\n",
    "print('The end')"
   ]
  },
  {
   "cell_type": "code",
   "execution_count": 3,
   "metadata": {},
   "outputs": [
    {
     "name": "stdout",
     "output_type": "stream",
     "text": [
      "Even\n",
      "The end\n"
     ]
    }
   ],
   "source": [
    "x=1356\n",
    "if x%2==0:\n",
    "    print('Even')\n",
    "    print('The end')#indentation"
   ]
  },
  {
   "cell_type": "code",
   "execution_count": 7,
   "metadata": {},
   "outputs": [
    {
     "name": "stdout",
     "output_type": "stream",
     "text": [
      "Bad input\n"
     ]
    }
   ],
   "source": [
    "num=input('Enter a number')\n",
    "if num.isnumeric():\n",
    "    print('Well done')\n",
    "    num=int(num)\n",
    "else:\n",
    "    print('Bad input')"
   ]
  },
  {
   "cell_type": "code",
   "execution_count": 9,
   "metadata": {},
   "outputs": [
    {
     "name": "stdout",
     "output_type": "stream",
     "text": [
      "Welcome to WWE\n"
     ]
    }
   ],
   "source": [
    "username='John Cena'\n",
    "email='john@gmail.com'\n",
    "password='qwerty'\n",
    "if username=='John Cena':\n",
    "    if email=='john@gmail.com':\n",
    "        if password=='qwerty':\n",
    "            print('Welcome to WWE')\n",
    "        else:\n",
    "            print('Wrong password')\n",
    "    else:\n",
    "        print('Wrong email')\n",
    "else:\n",
    "    print('Wrong name')"
   ]
  },
  {
   "cell_type": "code",
   "execution_count": 10,
   "metadata": {},
   "outputs": [
    {
     "name": "stdout",
     "output_type": "stream",
     "text": [
      "Wrong name\n"
     ]
    }
   ],
   "source": [
    "username=input('Enter name')\n",
    "email=input('Enter email')\n",
    "password=input('Enter Password')\n",
    "if username=='John Cena':\n",
    "    if email=='john@gmail.com':\n",
    "        if password=='qwerty':\n",
    "            print('Welcome to WWE')\n",
    "        else:\n",
    "            print('Wrong password')\n",
    "    else:\n",
    "        print('Wrong email')\n",
    "else:\n",
    "    print('Wrong name')"
   ]
  },
  {
   "cell_type": "code",
   "execution_count": 11,
   "metadata": {},
   "outputs": [
    {
     "name": "stdout",
     "output_type": "stream",
     "text": [
      "Wrong password\n"
     ]
    }
   ],
   "source": [
    "username=input('Enter name')\n",
    "email=input('Enter email')\n",
    "password=input('Enter Password')\n",
    "if username=='John Cena':\n",
    "    if email=='john@gmail.com':\n",
    "        if password=='qwerty':\n",
    "            print('Welcome to WWE')\n",
    "        else:\n",
    "            print('Wrong password')\n",
    "    else:\n",
    "        print('Wrong email')\n",
    "else:\n",
    "    print('Wrong name')"
   ]
  },
  {
   "cell_type": "code",
   "execution_count": 12,
   "metadata": {},
   "outputs": [
    {
     "name": "stdout",
     "output_type": "stream",
     "text": [
      "Welcome to WWE\n"
     ]
    }
   ],
   "source": [
    "username=input('Enter name')\n",
    "email=input('Enter email')\n",
    "password=input('Enter Password')\n",
    "if username=='John Cena':\n",
    "    if email=='john@gmail.com':\n",
    "        if password=='qwerty':\n",
    "            print('Welcome to WWE')\n",
    "        else:\n",
    "            print('Wrong password')\n",
    "    else:\n",
    "        print('Wrong email')\n",
    "else:\n",
    "    print('Wrong name')"
   ]
  },
  {
   "cell_type": "code",
   "execution_count": 14,
   "metadata": {},
   "outputs": [
    {
     "name": "stdout",
     "output_type": "stream",
     "text": [
      "Wrong username\n"
     ]
    }
   ],
   "source": [
    "username=input('Enter name')\n",
    "email=input('Enter email')\n",
    "password=input('Enter Password')\n",
    "if username!='John Cena':\n",
    "    print('Wrong username')\n",
    "elif password!='qwerty':\n",
    "    print('Wrong password')\n",
    "elif email!='john@gmail.com':\n",
    "    print('Wrong email')\n",
    "else:\n",
    "    print('Welcome to WWE')"
   ]
  },
  {
   "cell_type": "code",
   "execution_count": 19,
   "metadata": {},
   "outputs": [
    {
     "name": "stdout",
     "output_type": "stream",
     "text": [
      "Grade A\n"
     ]
    }
   ],
   "source": [
    "marks=input('Enter the marks')\n",
    "if not marks.isnumeric():\n",
    "    print('Invalid')\n",
    "else:\n",
    "    marks=int(marks)\n",
    "if marks>=90:\n",
    "    print('Grade A')\n",
    "elif marks>=80:\n",
    "    print('Grade B')\n",
    "elif marks>=70:\n",
    "    print('Grade C')\n",
    "elif marks>=60:\n",
    "    print('Grade D')\n",
    "elif marks<60:\n",
    "    print('Grade F')\n"
   ]
  },
  {
   "cell_type": "code",
   "execution_count": 1,
   "metadata": {},
   "outputs": [
    {
     "data": {
      "text/plain": [
       "10"
      ]
     },
     "execution_count": 1,
     "metadata": {},
     "output_type": "execute_result"
    }
   ],
   "source": [
    "word='Volkswagen'\n",
    "len(word)"
   ]
  },
  {
   "cell_type": "code",
   "execution_count": 2,
   "metadata": {},
   "outputs": [
    {
     "name": "stdout",
     "output_type": "stream",
     "text": [
      "V\n",
      "o\n",
      "l\n",
      "k\n",
      "s\n",
      "w\n",
      "a\n",
      "g\n",
      "e\n",
      "n\n"
     ]
    }
   ],
   "source": [
    "for i in word:\n",
    "    print(i)"
   ]
  },
  {
   "cell_type": "code",
   "execution_count": 3,
   "metadata": {},
   "outputs": [
    {
     "name": "stdout",
     "output_type": "stream",
     "text": [
      "P\n",
      "Y\n",
      "T\n",
      "H\n",
      "O\n",
      "N\n"
     ]
    }
   ],
   "source": [
    "x=\"PYTHON\"\n",
    "for i in x:\n",
    "    print(i)"
   ]
  },
  {
   "cell_type": "code",
   "execution_count": 4,
   "metadata": {},
   "outputs": [
    {
     "name": "stdout",
     "output_type": "stream",
     "text": [
      "I have apple\n",
      "I have mango\n",
      "I have banana\n"
     ]
    }
   ],
   "source": [
    "fruits=['apple','mango','banana']\n",
    "for i in fruits:\n",
    "    print('I have',i)"
   ]
  },
  {
   "cell_type": "markdown",
   "metadata": {},
   "source": [
    "*string settings*\n",
    "\n",
    "* r=raw string\n",
    "\n",
    "* f=formatted string\n",
    "\n",
    "* b=byte string"
   ]
  },
  {
   "cell_type": "code",
   "execution_count": 6,
   "metadata": {},
   "outputs": [
    {
     "name": "stdout",
     "output_type": "stream",
     "text": [
      "I have apple\n",
      "I have mango\n",
      "I have banana\n"
     ]
    }
   ],
   "source": [
    "fruits=['apple','mango','banana']\n",
    "for i in fruits:\n",
    "    print(f'I have {i}')"
   ]
  },
  {
   "cell_type": "code",
   "execution_count": 7,
   "metadata": {},
   "outputs": [
    {
     "name": "stdout",
     "output_type": "stream",
     "text": [
      "you got point 0\n",
      "you got point 1\n",
      "you got point 2\n",
      "you got point 3\n",
      "you got point 4\n",
      "you got point 5\n"
     ]
    }
   ],
   "source": [
    "for i in range(6):\n",
    "    print('you got point',i)\n",
    " "
   ]
  },
  {
   "cell_type": "code",
   "execution_count": 8,
   "metadata": {},
   "outputs": [
    {
     "name": "stdout",
     "output_type": "stream",
     "text": [
      "you got point 2\n",
      "you got point 3\n",
      "you got point 4\n",
      "you got point 5\n",
      "you got point 6\n",
      "you got point 7\n",
      "you got point 8\n",
      "you got point 9\n",
      "you got point 10\n"
     ]
    }
   ],
   "source": [
    "for i in range(2,11):\n",
    "    print('you got point',i)\n"
   ]
  },
  {
   "cell_type": "code",
   "execution_count": 9,
   "metadata": {},
   "outputs": [
    {
     "name": "stdout",
     "output_type": "stream",
     "text": [
      "you got point 1\n",
      "you got point 4\n",
      "you got point 7\n"
     ]
    }
   ],
   "source": [
    "for i in range(1,10,3):\n",
    "    print('you got point',i)\n"
   ]
  },
  {
   "cell_type": "code",
   "execution_count": 10,
   "metadata": {},
   "outputs": [
    {
     "name": "stdout",
     "output_type": "stream",
     "text": [
      "10\n",
      "9\n",
      "8\n",
      "7\n",
      "6\n"
     ]
    }
   ],
   "source": [
    "#Reverse loop\n",
    "for i in range(10,5,-1):\n",
    "    print(i)\n"
   ]
  },
  {
   "cell_type": "code",
   "execution_count": 11,
   "metadata": {},
   "outputs": [
    {
     "name": "stdout",
     "output_type": "stream",
     "text": [
      "\n",
      "Na\n",
      "NaNa\n",
      "NaNaNa\n",
      "NaNaNaNa\n",
      "NaNaNaNaNa\n",
      "NaNaNaNaNaNa\n",
      "NaNaNaNaNaNaNa\n",
      "NaNaNaNaNaNaNaNa\n",
      "NaNaNaNaNaNaNaNaNa\n"
     ]
    }
   ],
   "source": [
    "#Pattern loop\n",
    "for i in range(10):\n",
    "    print(i* 'Na')"
   ]
  },
  {
   "cell_type": "markdown",
   "metadata": {},
   "source": [
    "Extra functional setting for 'for loop'\n",
    "- enumerate\n",
    "- zip"
   ]
  },
  {
   "cell_type": "code",
   "execution_count": 14,
   "metadata": {},
   "outputs": [
    {
     "name": "stdout",
     "output_type": "stream",
     "text": [
      "appe\n",
      "banana\n",
      "cherry\n",
      "orange\n",
      "kiwi\n",
      "mango\n"
     ]
    }
   ],
   "source": [
    "fruits=['appe','banana','cherry','orange','kiwi','mango']\n",
    "for i in fruits:\n",
    "    print(i)"
   ]
  },
  {
   "cell_type": "code",
   "execution_count": 15,
   "metadata": {},
   "outputs": [
    {
     "name": "stdout",
     "output_type": "stream",
     "text": [
      "(0, 'appe')\n",
      "(1, 'banana')\n",
      "(2, 'cherry')\n",
      "(3, 'orange')\n",
      "(4, 'kiwi')\n",
      "(5, 'mango')\n"
     ]
    }
   ],
   "source": [
    "for i in enumerate(fruits):\n",
    "    print(i)"
   ]
  },
  {
   "cell_type": "code",
   "execution_count": 16,
   "metadata": {},
   "outputs": [
    {
     "name": "stdout",
     "output_type": "stream",
     "text": [
      "0 appe\n",
      "1 banana\n",
      "2 cherry\n",
      "3 orange\n",
      "4 kiwi\n",
      "5 mango\n"
     ]
    }
   ],
   "source": [
    "for i,fruit in enumerate(fruits):\n",
    "    print(i,fruit)\n"
   ]
  },
  {
   "cell_type": "code",
   "execution_count": 17,
   "metadata": {},
   "outputs": [],
   "source": [
    "prices=[100,40,200,50,240,60]"
   ]
  },
  {
   "cell_type": "code",
   "execution_count": 19,
   "metadata": {},
   "outputs": [
    {
     "name": "stdout",
     "output_type": "stream",
     "text": [
      "appe 100\n",
      "banana 40\n",
      "cherry 200\n",
      "orange 50\n",
      "kiwi 240\n",
      "mango 60\n"
     ]
    }
   ],
   "source": [
    "for f,p in zip(fruits,prices):\n",
    "    print(f,p)\n"
   ]
  },
  {
   "cell_type": "code",
   "execution_count": 20,
   "metadata": {},
   "outputs": [],
   "source": [
    "qty=['2 kg','2 dozens','1 kg','1 kg','1/2 kg','5 kg']"
   ]
  },
  {
   "cell_type": "code",
   "execution_count": 23,
   "metadata": {},
   "outputs": [
    {
     "name": "stdout",
     "output_type": "stream",
     "text": [
      "appe => 2 kg for 100\n",
      "banana => 2 dozens for 40\n",
      "cherry => 1 kg for 200\n",
      "orange => 1 kg for 50\n",
      "kiwi => 1/2 kg for 240\n",
      "mango => 5 kg for 60\n"
     ]
    }
   ],
   "source": [
    "for f,p,q in zip(fruits,prices,qty):\n",
    "    print(f,'=>',q,'for',p)\n"
   ]
  },
  {
   "cell_type": "code",
   "execution_count": null,
   "metadata": {},
   "outputs": [],
   "source": []
  }
 ],
 "metadata": {
  "kernelspec": {
   "display_name": "Python 3.9.12 ('base')",
   "language": "python",
   "name": "python3"
  },
  "language_info": {
   "codemirror_mode": {
    "name": "ipython",
    "version": 3
   },
   "file_extension": ".py",
   "mimetype": "text/x-python",
   "name": "python",
   "nbconvert_exporter": "python",
   "pygments_lexer": "ipython3",
   "version": "3.9.12"
  },
  "orig_nbformat": 4,
  "vscode": {
   "interpreter": {
    "hash": "861f9c34f7302a1aedb62edfc1533c524ce2793735e6b405602ea89eb9cb2484"
   }
  }
 },
 "nbformat": 4,
 "nbformat_minor": 2
}
