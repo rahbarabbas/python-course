{
 "cells": [
  {
   "cell_type": "code",
   "execution_count": 1,
   "metadata": {},
   "outputs": [
    {
     "name": "stdout",
     "output_type": "stream",
     "text": [
      "Hi,I am outside any function\n"
     ]
    }
   ],
   "source": [
    "def hello():\n",
    "    print('This is a function')\n",
    "    print('This is not a good function')\n",
    "    print('Forget that this function exists')\n",
    "    print('Bye!')\n",
    "print('Hi,I am outside any function')\n",
    "\n"
   ]
  },
  {
   "cell_type": "code",
   "execution_count": 3,
   "metadata": {},
   "outputs": [
    {
     "name": "stdout",
     "output_type": "stream",
     "text": [
      "This is a function\n",
      "This is not a good function\n",
      "Forget that this function exists\n",
      "Bye!\n"
     ]
    }
   ],
   "source": [
    "hello()"
   ]
  },
  {
   "cell_type": "code",
   "execution_count": 4,
   "metadata": {},
   "outputs": [
    {
     "name": "stdout",
     "output_type": "stream",
     "text": [
      "This is a function\n",
      "This is not a good function\n",
      "Forget that this function exists\n",
      "Bye!\n",
      "This is a function\n",
      "This is not a good function\n",
      "Forget that this function exists\n",
      "Bye!\n",
      "This is a function\n",
      "This is not a good function\n",
      "Forget that this function exists\n",
      "Bye!\n"
     ]
    }
   ],
   "source": [
    "for i in range(3):\n",
    "    hello()"
   ]
  },
  {
   "cell_type": "code",
   "execution_count": 6,
   "metadata": {},
   "outputs": [],
   "source": [
    "def area(length,breadth):\n",
    "    ans=length*breadth\n",
    "    return ans"
   ]
  },
  {
   "cell_type": "code",
   "execution_count": 7,
   "metadata": {},
   "outputs": [
    {
     "data": {
      "text/plain": [
       "25"
      ]
     },
     "execution_count": 7,
     "metadata": {},
     "output_type": "execute_result"
    }
   ],
   "source": [
    "area(5,5)"
   ]
  },
  {
   "cell_type": "code",
   "execution_count": 8,
   "metadata": {},
   "outputs": [
    {
     "name": "stdout",
     "output_type": "stream",
     "text": [
      "The area is 10\n"
     ]
    }
   ],
   "source": [
    "print('The area is',area(2,5))"
   ]
  },
  {
   "cell_type": "code",
   "execution_count": 10,
   "metadata": {},
   "outputs": [
    {
     "name": "stdout",
     "output_type": "stream",
     "text": [
      "16 20\n"
     ]
    }
   ],
   "source": [
    "a=area(4,4)\n",
    "b=area(4,5)\n",
    "print(a,b)"
   ]
  },
  {
   "cell_type": "code",
   "execution_count": 11,
   "metadata": {},
   "outputs": [
    {
     "name": "stdout",
     "output_type": "stream",
     "text": [
      "160\n"
     ]
    }
   ],
   "source": [
    "big_area=area(5,5)+area(10,12)+15 #function in expression\n",
    "print(big_area)"
   ]
  },
  {
   "cell_type": "code",
   "execution_count": 15,
   "metadata": {},
   "outputs": [],
   "source": [
    "def fib(start: int,size:int):\n",
    "    '''\n",
    "    ### this fibonacci series generator\n",
    "    -params\n",
    "        -start: pass a number for the start of fibonacci series\n",
    "        -size: size of fibonacci series\n",
    "        -returns: list of fibonacci series\n",
    "    \n",
    "    \n",
    "    out=fib(0)\n",
    "    print(out)\n",
    "    '''\n",
    "    out=[start,start+1]#list with 2 init values\n",
    "    for i in range(size-2):\n",
    "        out.append(out[-1] + out[-2])\n",
    "    return out\n"
   ]
  },
  {
   "cell_type": "code",
   "execution_count": 17,
   "metadata": {},
   "outputs": [
    {
     "name": "stdout",
     "output_type": "stream",
     "text": [
      "[0, 1, 1, 2, 3]\n"
     ]
    }
   ],
   "source": [
    "print(fib(0,5))"
   ]
  },
  {
   "cell_type": "code",
   "execution_count": 18,
   "metadata": {},
   "outputs": [],
   "source": [
    "# create a function to calculate S.I. and Amount and return them\n",
    "def si(p,r,t):\n",
    "    sim=(p*r*t) /100\n",
    "    amt=p+sim\n",
    "    return sim,amt"
   ]
  },
  {
   "cell_type": "code",
   "execution_count": 21,
   "metadata": {},
   "outputs": [
    {
     "name": "stdout",
     "output_type": "stream",
     "text": [
      "Simple interest= 0.5 and the amount is 5.5\n"
     ]
    }
   ],
   "source": [
    "s,a=si(5,5,2)\n",
    "print('Simple interest=',s,'and the amount is',a)"
   ]
  },
  {
   "cell_type": "code",
   "execution_count": 2,
   "metadata": {},
   "outputs": [],
   "source": [
    "import utils"
   ]
  },
  {
   "cell_type": "code",
   "execution_count": 3,
   "metadata": {},
   "outputs": [],
   "source": [
    "s='a set of words that is complete in itself, typically containing a subject and predicate, conveying a statement, question, exclamation, or command, and consisting of a main clause and sometimes one or more subordinate clauses.'\n"
   ]
  },
  {
   "cell_type": "code",
   "execution_count": 4,
   "metadata": {},
   "outputs": [
    {
     "data": {
      "text/plain": [
       "{'statement,': 1,\n",
       " 'one': 1,\n",
       " 'is': 1,\n",
       " 'and': 3,\n",
       " 'in': 1,\n",
       " 'consisting': 1,\n",
       " 'more': 1,\n",
       " 'subject': 1,\n",
       " 'containing': 1,\n",
       " 'of': 2,\n",
       " 'sometimes': 1,\n",
       " 'or': 2,\n",
       " 'clause': 1,\n",
       " 'set': 1,\n",
       " 'subordinate': 1,\n",
       " 'a': 4,\n",
       " 'typically': 1,\n",
       " 'itself,': 1,\n",
       " 'clauses.': 1,\n",
       " 'command,': 1,\n",
       " 'that': 1,\n",
       " 'conveying': 1,\n",
       " 'question,': 1,\n",
       " 'predicate,': 1,\n",
       " 'exclamation,': 1,\n",
       " 'main': 1,\n",
       " 'words': 1,\n",
       " 'complete': 1}"
      ]
     },
     "execution_count": 4,
     "metadata": {},
     "output_type": "execute_result"
    }
   ],
   "source": [
    "utils.word_counter(s)"
   ]
  },
  {
   "cell_type": "code",
   "execution_count": 5,
   "metadata": {},
   "outputs": [
    {
     "name": "stdout",
     "output_type": "stream",
     "text": [
      "o 16\n",
      "d 7\n",
      "  34\n",
      "h 1\n",
      "s 15\n",
      "f 3\n",
      "r 6\n",
      "x 1\n",
      "m 9\n",
      "e 19\n",
      "a 19\n",
      "n 18\n",
      "c 11\n",
      "i 15\n",
      "t 17\n",
      "y 3\n",
      "g 3\n",
      "q 1\n",
      "l 7\n",
      "u 5\n",
      ", 6\n",
      "p 3\n",
      "w 1\n",
      "j 1\n",
      "b 2\n",
      ". 1\n",
      "v 1\n"
     ]
    },
    {
     "data": {
      "text/plain": [
       "{'o': 16,\n",
       " 'd': 7,\n",
       " ' ': 34,\n",
       " 'h': 1,\n",
       " 's': 15,\n",
       " 'f': 3,\n",
       " 'r': 6,\n",
       " 'x': 1,\n",
       " 'm': 9,\n",
       " 'e': 19,\n",
       " 'a': 19,\n",
       " 'n': 18,\n",
       " 'c': 11,\n",
       " 'i': 15,\n",
       " 't': 17,\n",
       " 'y': 3,\n",
       " 'g': 3,\n",
       " 'q': 1,\n",
       " 'l': 7,\n",
       " 'u': 5,\n",
       " ',': 6,\n",
       " 'p': 3,\n",
       " 'w': 1,\n",
       " 'j': 1,\n",
       " 'b': 2,\n",
       " '.': 1,\n",
       " 'v': 1}"
      ]
     },
     "execution_count": 5,
     "metadata": {},
     "output_type": "execute_result"
    }
   ],
   "source": [
    "utils.char_counter(s)"
   ]
  },
  {
   "cell_type": "code",
   "execution_count": null,
   "metadata": {},
   "outputs": [],
   "source": []
  }
 ],
 "metadata": {
  "kernelspec": {
   "display_name": "Python 3.9.12 ('base')",
   "language": "python",
   "name": "python3"
  },
  "language_info": {
   "codemirror_mode": {
    "name": "ipython",
    "version": 3
   },
   "file_extension": ".py",
   "mimetype": "text/x-python",
   "name": "python",
   "nbconvert_exporter": "python",
   "pygments_lexer": "ipython3",
   "version": "3.9.12"
  },
  "orig_nbformat": 4,
  "vscode": {
   "interpreter": {
    "hash": "861f9c34f7302a1aedb62edfc1533c524ce2793735e6b405602ea89eb9cb2484"
   }
  }
 },
 "nbformat": 4,
 "nbformat_minor": 2
}
