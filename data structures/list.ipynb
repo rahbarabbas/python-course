{
 "cells": [
  {
   "cell_type": "code",
   "execution_count": 1,
   "metadata": {},
   "outputs": [],
   "source": [
    "#Defining list in python\n",
    "\n",
    "#List of strings\n",
    "list1=['Rahul','Vaibhav','John','Rishabh']\n",
    "#List of numbers\n",
    "list2=[1,2,3,4,5,15,25,100]\n",
    "#Mixed data list\n",
    "list3=['Ravi',90,102,93,29,'B',False,5.786]\n",
    "#Nested list\n",
    "list4=[[1,2,3],[3,4,5,6],[2,1]]"
   ]
  },
  {
   "cell_type": "code",
   "execution_count": 6,
   "metadata": {},
   "outputs": [
    {
     "name": "stdout",
     "output_type": "stream",
     "text": [
      "List1= [2, 4, 6, 'A', 10, 'B', 16, 'C', 20]\n",
      "List1[0]= 2\n",
      "List1[-1]= 20\n",
      "List1[-3]= 16\n"
     ]
    }
   ],
   "source": [
    "#Accessing list item in python\n",
    "list1=[2,4,6,'A',10,'B',16,'C',20]\n",
    "print('List1=',list1)\n",
    "#First item\n",
    "print('List1[0]=',list1[0])\n",
    "#Last item\n",
    "print('List1[-1]=',list1[-1])\n",
    "#Last third item\n",
    "print('List1[-3]=',list1[-3])"
   ]
  },
  {
   "cell_type": "code",
   "execution_count": 9,
   "metadata": {},
   "outputs": [
    {
     "name": "stdout",
     "output_type": "stream",
     "text": [
      "[40, 50, 60, 70, 80]\n",
      "[40, 50, 60, 70, 80]\n"
     ]
    }
   ],
   "source": [
    "#Getting a list slice\n",
    "l=[10,20,30,40,50,60,70,80,90,100]\n",
    "slice1=l[3:8]\n",
    "slice2=l[3:-2]\n",
    "print(slice1)\n",
    "print(slice2)"
   ]
  },
  {
   "cell_type": "code",
   "execution_count": 81,
   "metadata": {},
   "outputs": [],
   "source": [
    "books=['Legion','Stealheart','The Final Empire','The Originals','Harry Potter','The Vampire Diaries','A song of ice and fire']"
   ]
  },
  {
   "cell_type": "code",
   "execution_count": 11,
   "metadata": {},
   "outputs": [
    {
     "data": {
      "text/plain": [
       "['Legion', 'Stealheart', 'The Final Empire']"
      ]
     },
     "execution_count": 11,
     "metadata": {},
     "output_type": "execute_result"
    }
   ],
   "source": [
    "books[:3] #First 3 books"
   ]
  },
  {
   "cell_type": "code",
   "execution_count": 12,
   "metadata": {},
   "outputs": [
    {
     "data": {
      "text/plain": [
       "['Harry Potter', 'The Vampire Diaries', 'A song of ice and fire']"
      ]
     },
     "execution_count": 12,
     "metadata": {},
     "output_type": "execute_result"
    }
   ],
   "source": [
    "books[-3:] #last 3 books"
   ]
  },
  {
   "cell_type": "code",
   "execution_count": 15,
   "metadata": {},
   "outputs": [
    {
     "data": {
      "text/plain": [
       "['The Originals']"
      ]
     },
     "execution_count": 15,
     "metadata": {},
     "output_type": "execute_result"
    }
   ],
   "source": [
    "books[3:-3] #All except first 3 and last 3 books"
   ]
  },
  {
   "cell_type": "code",
   "execution_count": 2,
   "metadata": {},
   "outputs": [],
   "source": [
    "#Append function\n",
    "fruits=[]\n",
    "fruits.append('apple')\n",
    "fruits.append('banana')\n",
    "fruits.append('cherry')\n",
    "fruits.append('guava')"
   ]
  },
  {
   "cell_type": "code",
   "execution_count": 17,
   "metadata": {},
   "outputs": [
    {
     "name": "stdout",
     "output_type": "stream",
     "text": [
      "['apple', 'banana', 'cherry', 'guava']\n"
     ]
    }
   ],
   "source": [
    "print(fruits)"
   ]
  },
  {
   "cell_type": "code",
   "execution_count": 19,
   "metadata": {},
   "outputs": [
    {
     "name": "stdout",
     "output_type": "stream",
     "text": [
      "['apple', 'orange', 'banana', 'mango', 'cherry']\n"
     ]
    }
   ],
   "source": [
    "#insert function\n",
    "fru=['apple','banana','cherry']\n",
    "fru.insert(1,'orange')\n",
    "fru.insert(-1,'mango')\n",
    "print(fru)"
   ]
  },
  {
   "cell_type": "code",
   "execution_count": 30,
   "metadata": {},
   "outputs": [
    {
     "name": "stdout",
     "output_type": "stream",
     "text": [
      "['apple', 'banana', 'cherry', 'guava', 'Almond', 'Cashew', 'walnut']\n"
     ]
    }
   ],
   "source": [
    "#Extend function\n",
    "dry_fruits=['Almond','Cashew','walnut']\n",
    "fruits.extend(dry_fruits)\n",
    "print(fruits)"
   ]
  },
  {
   "cell_type": "code",
   "execution_count": 28,
   "metadata": {},
   "outputs": [
    {
     "name": "stdout",
     "output_type": "stream",
     "text": [
      "['apple', 'guava', 'Almond', 'Cashew', 'walnut']\n"
     ]
    }
   ],
   "source": [
    "fruit=['apple', 'guava']\n",
    "fruit.extend(dry_fruits)\n",
    "print(fruit)"
   ]
  },
  {
   "cell_type": "code",
   "execution_count": 31,
   "metadata": {},
   "outputs": [
    {
     "name": "stdout",
     "output_type": "stream",
     "text": [
      "['Almond', 'Cashew', 'apple', 'banana', 'cherry', 'guava', 'walnut']\n"
     ]
    }
   ],
   "source": [
    "#Sort function\n",
    "fruits.sort()\n",
    "print(fruits)"
   ]
  },
  {
   "cell_type": "code",
   "execution_count": 47,
   "metadata": {},
   "outputs": [
    {
     "name": "stdout",
     "output_type": "stream",
     "text": [
      "[1, 2, 3, 4, 5, 7, 8, 9]\n"
     ]
    }
   ],
   "source": [
    "x=[1,9,8,7,5,4,3,2]\n",
    "x.sort()\n",
    "print(x)"
   ]
  },
  {
   "cell_type": "code",
   "execution_count": 37,
   "metadata": {},
   "outputs": [
    {
     "name": "stdout",
     "output_type": "stream",
     "text": [
      "['walnut', 'guava', 'cherry', 'banana', 'apple', 'Cashew', 'Almond']\n"
     ]
    }
   ],
   "source": [
    "#Reverse function\n",
    "fruits.sort(reverse=True)\n",
    "print(fruits)"
   ]
  },
  {
   "cell_type": "code",
   "execution_count": 48,
   "metadata": {},
   "outputs": [
    {
     "name": "stdout",
     "output_type": "stream",
     "text": [
      "[2, 3, 4, 5, 7, 8, 9]\n",
      "[2, 3, 4, 5, 7, 8, 9]\n"
     ]
    }
   ],
   "source": [
    "#Remove function\n",
    "x.remove(1)\n",
    "print(x)\n",
    "if 99 in x:\n",
    "    x.remove(99)\n",
    "print(x)"
   ]
  },
  {
   "cell_type": "code",
   "execution_count": 66,
   "metadata": {},
   "outputs": [
    {
     "name": "stdout",
     "output_type": "stream",
     "text": [
      "['A song of ice and fire', 'The Vampire Diaries', 'Harry Potter', 'The Originals', 'The Final Empire', 'Stealheart', 'Legion']\n"
     ]
    }
   ],
   "source": [
    "books.reverse()\n",
    "print(books)"
   ]
  },
  {
   "cell_type": "code",
   "execution_count": 76,
   "metadata": {},
   "outputs": [
    {
     "name": "stdout",
     "output_type": "stream",
     "text": [
      "['A song of ice and fire', 'The Vampire Diaries', 'Harry Potter', 'The Originals', 'The Final Empire', 'Stealheart', 'Legion']\n"
     ]
    }
   ],
   "source": [
    "books[::-1]\n",
    "print(books)"
   ]
  },
  {
   "cell_type": "code",
   "execution_count": 77,
   "metadata": {},
   "outputs": [
    {
     "data": {
      "text/plain": [
       "3"
      ]
     },
     "execution_count": 77,
     "metadata": {},
     "output_type": "execute_result"
    }
   ],
   "source": [
    "#Count function\n",
    "y=[1,2,1,1,4,6]\n",
    "y.count(1)"
   ]
  },
  {
   "cell_type": "code",
   "execution_count": 79,
   "metadata": {},
   "outputs": [
    {
     "data": {
      "text/plain": [
       "5"
      ]
     },
     "execution_count": 79,
     "metadata": {},
     "output_type": "execute_result"
    }
   ],
   "source": [
    "#index function\n",
    "movies=['Top Gun','End game','Venom','Anaconda','Infinity war','Thor']\n",
    "movies.index('Thor')"
   ]
  },
  {
   "cell_type": "code",
   "execution_count": 83,
   "metadata": {},
   "outputs": [
    {
     "name": "stdout",
     "output_type": "stream",
     "text": [
      "5\n"
     ]
    },
    {
     "data": {
      "text/plain": [
       "['The Vampire Diaries', 'A song of ice and fire']"
      ]
     },
     "execution_count": 83,
     "metadata": {},
     "output_type": "execute_result"
    }
   ],
   "source": [
    "vindex=books.index('The Vampire Diaries')\n",
    "print(vindex)\n",
    "books[vindex:]"
   ]
  },
  {
   "cell_type": "code",
   "execution_count": 4,
   "metadata": {},
   "outputs": [
    {
     "name": "stdout",
     "output_type": "stream",
     "text": [
      "cherry\n",
      "banana\n"
     ]
    }
   ],
   "source": [
    "#Pop function\n",
    "#by list.pop() method\n",
    "v=fruits.pop()\n",
    "print(v)\n",
    "\n",
    "#by list.pop(idx) method\n",
    "vv=fruits.pop(1)\n",
    "print(vv)"
   ]
  },
  {
   "cell_type": "markdown",
   "metadata": {},
   "source": [
    "- Wap to create a list of 5 values given by the user"
   ]
  },
  {
   "cell_type": "code",
   "execution_count": 6,
   "metadata": {},
   "outputs": [
    {
     "name": "stdout",
     "output_type": "stream",
     "text": [
      "['apple', 'banana', 'water melon', 'guava', 'mango']\n"
     ]
    }
   ],
   "source": [
    "ex=[]\n",
    "for i in range(5):\n",
    "    val=input(f'enter value(i+1):')\n",
    "    ex.append(val)\n",
    "print(ex)"
   ]
  },
  {
   "cell_type": "markdown",
   "metadata": {},
   "source": [
    "- Wap to display sum of the list"
   ]
  },
  {
   "cell_type": "code",
   "execution_count": 8,
   "metadata": {},
   "outputs": [
    {
     "name": "stdout",
     "output_type": "stream",
     "text": [
      "242\n"
     ]
    }
   ],
   "source": [
    "data=[23,54,67,31,67]\n",
    "total=0\n",
    "for i in data:\n",
    "    total+=i\n",
    "print(total)"
   ]
  },
  {
   "cell_type": "code",
   "execution_count": 3,
   "metadata": {},
   "outputs": [
    {
     "name": "stdout",
     "output_type": "stream",
     "text": [
      "4.0\n",
      "4\n",
      "2\n",
      "7\n"
     ]
    }
   ],
   "source": [
    "from statistics import median\n",
    "x=[2,4,6,7,3,2,4]\n",
    "#mean\n",
    "mean=sum(x)/len(x)\n",
    "print(mean)\n",
    "#median\n",
    "x.sort()\n",
    "if len(x) %2==0:\n",
    "    median=(x[len(x)//2]+x[len(x)//2 -1])/2\n",
    "else:\n",
    "    median=x[len(x)//2]\n",
    "print(median)\n",
    "#min\n",
    "print(min(x))\n",
    "#max\n",
    "print(max(x))\n"
   ]
  },
  {
   "cell_type": "code",
   "execution_count": 1,
   "metadata": {},
   "outputs": [
    {
     "name": "stdout",
     "output_type": "stream",
     "text": [
      "[4, 4, 4]\n"
     ]
    }
   ],
   "source": [
    "a1=[1,2,3]\n",
    "b1=[3,2,1]\n",
    "n1=[]\n",
    "for i in range(3):\n",
    "    n1.append(a1[i]+b1[i])\n",
    "print(n1)"
   ]
  },
  {
   "cell_type": "code",
   "execution_count": 3,
   "metadata": {},
   "outputs": [
    {
     "name": "stdout",
     "output_type": "stream",
     "text": [
      "[4, 4, 4]\n"
     ]
    }
   ],
   "source": [
    "#add 2 lists together element wise and produce a new list\n",
    "a=[1,2,3]\n",
    "b=[3,2,1]\n",
    "n1=[]\n",
    "for i,j in zip(a,b):\n",
    "    n1.append(i+j)\n",
    "print(n1)"
   ]
  },
  {
   "cell_type": "code",
   "execution_count": 4,
   "metadata": {},
   "outputs": [
    {
     "name": "stdout",
     "output_type": "stream",
     "text": [
      "[4, 16, 36, 64]\n"
     ]
    }
   ],
   "source": [
    "#create a list where every element is a square of elements from an existing list\n",
    "l1=[2,4,6,8]\n",
    "sq=[]\n",
    "for i in range(4):\n",
    "    sq.append(l1[i]**2)\n",
    "print(sq)"
   ]
  },
  {
   "cell_type": "code",
   "execution_count": 42,
   "metadata": {},
   "outputs": [
    {
     "name": "stdout",
     "output_type": "stream",
     "text": [
      "[9]\n"
     ]
    }
   ],
   "source": [
    "#create a list where every odd element is a square of elements from an existing list\n",
    "l1=[2,4,6,8,3]\n",
    "sq=[]\n",
    "for i in l1:\n",
    "   if i%2!=0:\n",
    "       sq.append(i**2)\n",
    "print(sq)\n",
    "\n",
    "#Another method using list comprehension\n",
    "#sq=[i**2 for i in l1 if i%2==1]\n",
    "#print(sq)"
   ]
  },
  {
   "cell_type": "code",
   "execution_count": 13,
   "metadata": {},
   "outputs": [
    {
     "name": "stdout",
     "output_type": "stream",
     "text": [
      "['US', 'PM', 'SE', 'DA', 'SSE', 'SDA', 'DS', 'DE']\n"
     ]
    }
   ],
   "source": [
    "#create abbreviation list from an existing list of words\n",
    "words=['United State','Project Manager','Software Engineer','Data Analyst','Senior Software Engineer','Senior Data Analyst','Data Scientist','Data Engineer']\n",
    "abbrs=[]\n",
    "for names in words:\n",
    "    ans=''\n",
    "    for word in names.split():\n",
    "        ans+=word[0]\n",
    "    abbrs.append(ans)\n",
    "print(abbrs)\n",
    "    "
   ]
  },
  {
   "cell_type": "code",
   "execution_count": 14,
   "metadata": {},
   "outputs": [],
   "source": [
    "l=input(\"Enter the items\")"
   ]
  },
  {
   "cell_type": "code",
   "execution_count": 26,
   "metadata": {},
   "outputs": [
    {
     "name": "stdout",
     "output_type": "stream",
     "text": [
      "2 4 7 rahbar\n",
      "[2, 4, 7]\n",
      "[8, 64, 343]\n"
     ]
    }
   ],
   "source": [
    "#take a list from user in one line of input and then\n",
    "#remove all the non numeric values from the list\n",
    "#and then display the cubes of numbers from that list\n",
    "entries=input(\"Enter data separated with space:\")\n",
    "print(entries)\n",
    "numeric_entries=[]\n",
    "for value in entries.split():\n",
    "    if value.isnumeric():\n",
    "        numeric_entries.append(int(value))\n",
    "print(numeric_entries)\n",
    "cubes=[]\n",
    "for i in numeric_entries:\n",
    "    cubes.append(i**3)\n",
    "print(cubes)\n"
   ]
  },
  {
   "cell_type": "markdown",
   "metadata": {},
   "source": [
    "List Comprehension\n",
    "- is a way to create a list from an existing list using one line of expression"
   ]
  },
  {
   "cell_type": "code",
   "execution_count": 27,
   "metadata": {},
   "outputs": [
    {
     "name": "stdout",
     "output_type": "stream",
     "text": [
      "[8, 64, 343]\n"
     ]
    }
   ],
   "source": [
    "c=[i**3 for i in numeric_entries]\n",
    "print(c)"
   ]
  },
  {
   "cell_type": "code",
   "execution_count": null,
   "metadata": {},
   "outputs": [],
   "source": []
  }
 ],
 "metadata": {
  "kernelspec": {
   "display_name": "Python 3.9.12 ('base')",
   "language": "python",
   "name": "python3"
  },
  "language_info": {
   "codemirror_mode": {
    "name": "ipython",
    "version": 3
   },
   "file_extension": ".py",
   "mimetype": "text/x-python",
   "name": "python",
   "nbconvert_exporter": "python",
   "pygments_lexer": "ipython3",
   "version": "3.9.12"
  },
  "orig_nbformat": 4,
  "vscode": {
   "interpreter": {
    "hash": "861f9c34f7302a1aedb62edfc1533c524ce2793735e6b405602ea89eb9cb2484"
   }
  }
 },
 "nbformat": 4,
 "nbformat_minor": 2
}
