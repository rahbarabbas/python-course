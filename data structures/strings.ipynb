{
 "cells": [
  {
   "cell_type": "markdown",
   "metadata": {},
   "source": [
    "* CONCATENATION IN STRINGS"
   ]
  },
  {
   "cell_type": "code",
   "execution_count": 1,
   "metadata": {},
   "outputs": [
    {
     "name": "stdout",
     "output_type": "stream",
     "text": [
      "Thisisamazing\n"
     ]
    }
   ],
   "source": [
    "w1='This'\n",
    "w2='is'\n",
    "w3='amazing'\n",
    "msg=w1+w2+w3\n",
    "print(msg)"
   ]
  },
  {
   "cell_type": "code",
   "execution_count": 2,
   "metadata": {},
   "outputs": [
    {
     "name": "stdout",
     "output_type": "stream",
     "text": [
      "This is amazing\n"
     ]
    }
   ],
   "source": [
    "w1='This'\n",
    "w2='is'\n",
    "w3='amazing'\n",
    "msg=w1+' '+w2+' '+w3\n",
    "print(msg)"
   ]
  },
  {
   "cell_type": "markdown",
   "metadata": {},
   "source": [
    "* Duplication in strings"
   ]
  },
  {
   "cell_type": "code",
   "execution_count": 3,
   "metadata": {},
   "outputs": [
    {
     "name": "stdout",
     "output_type": "stream",
     "text": [
      "HiHiHi\n"
     ]
    }
   ],
   "source": [
    "w='Hi'\n",
    "print(w*3)"
   ]
  },
  {
   "cell_type": "code",
   "execution_count": 6,
   "metadata": {},
   "outputs": [
    {
     "name": "stdout",
     "output_type": "stream",
     "text": [
      "------------------------------\n"
     ]
    }
   ],
   "source": [
    "print('-'*30)"
   ]
  },
  {
   "cell_type": "code",
   "execution_count": 8,
   "metadata": {},
   "outputs": [
    {
     "name": "stdout",
     "output_type": "stream",
     "text": [
      " * \n",
      " *  * \n",
      " *  *  * \n",
      " *  *  *  * \n",
      " *  *  *  *  * \n"
     ]
    }
   ],
   "source": [
    "for i in range(1,6):\n",
    "    print(i*' * ')\n"
   ]
  },
  {
   "cell_type": "code",
   "execution_count": 12,
   "metadata": {},
   "outputs": [
    {
     "name": "stdout",
     "output_type": "stream",
     "text": [
      " @  @  @  @  @  @ \n",
      " @  @  @  @  @ \n",
      " @  @  @  @ \n",
      " @  @  @ \n",
      " @  @ \n",
      " @ \n"
     ]
    }
   ],
   "source": [
    "for i in range(6,0,-1):\n",
    "    print(i*' @ ')"
   ]
  },
  {
   "cell_type": "code",
   "execution_count": 13,
   "metadata": {},
   "outputs": [],
   "source": [
    "name='Alex Mason'\n",
    "age=50\n",
    "items=['Apple','Banana','Cherry']"
   ]
  },
  {
   "cell_type": "code",
   "execution_count": 15,
   "metadata": {},
   "outputs": [
    {
     "data": {
      "text/plain": [
       "True"
      ]
     },
     "execution_count": 15,
     "metadata": {},
     "output_type": "execute_result"
    }
   ],
   "source": [
    "name.endswith('son')"
   ]
  },
  {
   "cell_type": "markdown",
   "metadata": {},
   "source": [
    "Formatting functions"
   ]
  },
  {
   "cell_type": "code",
   "execution_count": 16,
   "metadata": {},
   "outputs": [],
   "source": [
    "msg='This Is A message from VERY ImporTANT person'"
   ]
  },
  {
   "cell_type": "code",
   "execution_count": 17,
   "metadata": {},
   "outputs": [
    {
     "name": "stdout",
     "output_type": "stream",
     "text": [
      "THIS IS A MESSAGE FROM VERY IMPORTANT PERSON\n",
      "this is a message from very important person\n",
      "This Is A Message From Very Important Person\n",
      "This is a message from very important person\n",
      "this is a message from very important person\n",
      "tHIS iS a MESSAGE FROM very iMPORtant PERSON\n",
      "This Is A message from VERY ImporTANT person\n"
     ]
    }
   ],
   "source": [
    "print(msg.upper())\n",
    "print(msg.lower())\n",
    "print(msg.title())\n",
    "print(msg.capitalize())\n",
    "print(msg.casefold())\n",
    "print(msg.swapcase())\n",
    "print(msg)"
   ]
  },
  {
   "cell_type": "code",
   "execution_count": 1,
   "metadata": {},
   "outputs": [],
   "source": [
    "long_msg='''Before downloading, please take a moment to review the Hardware and Software requirements section of the User Handbook.\n",
    "Select one of the packages below and follow the download instructions.\n",
    "Once a Jenkins package has been downloaded, proceed to the Installing Jenkins section of the User Handbook.\n",
    "You may also want to verify the package you downloaded. Learn more about verifying Jenkins downloads.'''"
   ]
  },
  {
   "cell_type": "code",
   "execution_count": 3,
   "metadata": {},
   "outputs": [
    {
     "name": "stdout",
     "output_type": "stream",
     "text": [
      "7\n"
     ]
    }
   ],
   "source": [
    "print(long_msg.count('the'))"
   ]
  },
  {
   "cell_type": "code",
   "execution_count": 4,
   "metadata": {},
   "outputs": [
    {
     "data": {
      "text/plain": [
       "3"
      ]
     },
     "execution_count": 4,
     "metadata": {},
     "output_type": "execute_result"
    }
   ],
   "source": [
    "long_msg.find('ore')"
   ]
  },
  {
   "cell_type": "markdown",
   "metadata": {},
   "source": [
    "- WAP to find all indexes of all vowels"
   ]
  },
  {
   "cell_type": "code",
   "execution_count": 5,
   "metadata": {},
   "outputs": [
    {
     "name": "stdout",
     "output_type": "stream",
     "text": [
      "vowel a :13\n",
      "vowel a :23\n",
      "vowel a :28\n",
      "vowel a :32\n",
      "vowel a :56\n",
      "vowel a :60\n",
      "vowel a :64\n",
      "vowel a :73\n",
      "vowel a :111\n",
      "vowel a :139\n",
      "vowel a :142\n",
      "vowel a :153\n",
      "vowel a :174\n",
      "vowel a :196\n",
      "vowel a :207\n",
      "vowel a :210\n",
      "vowel a :215\n",
      "vowel a :229\n",
      "vowel a :254\n",
      "vowel a :290\n",
      "vowel a :304\n",
      "vowel a :307\n",
      "vowel a :313\n",
      "vowel a :332\n",
      "vowel a :335\n",
      "vowel a :349\n",
      "vowel a :357\n",
      "vowel a :366\n",
      "vowel a :396\n",
      "vowel e :1\n",
      "vowel e :5\n",
      "vowel e :22\n",
      "vowel e :25\n",
      "vowel e :30\n",
      "vowel e :37\n",
      "vowel e :45\n",
      "vowel e :48\n",
      "vowel e :53\n",
      "vowel e :62\n",
      "vowel e :75\n",
      "vowel e :78\n",
      "vowel e :83\n",
      "vowel e :85\n",
      "vowel e :91\n",
      "vowel e :103\n",
      "vowel e :107\n",
      "vowel e :121\n",
      "vowel e :123\n",
      "vowel e :129\n",
      "vowel e :136\n",
      "vowel e :144\n",
      "vowel e :148\n",
      "vowel e :166\n",
      "vowel e :194\n",
      "vowel e :199\n",
      "vowel e :212\n",
      "vowel e :219\n",
      "vowel e :220\n",
      "vowel e :231\n",
      "vowel e :239\n",
      "vowel e :240\n",
      "vowel e :248\n",
      "vowel e :262\n",
      "vowel e :270\n",
      "vowel e :282\n",
      "vowel e :286\n",
      "vowel e :321\n",
      "vowel e :329\n",
      "vowel e :337\n",
      "vowel e :351\n",
      "vowel e :356\n",
      "vowel e :364\n",
      "vowel e :373\n",
      "vowel e :383\n",
      "vowel i :15\n",
      "vowel i :47\n",
      "vowel i :81\n",
      "vowel i :94\n",
      "vowel i :177\n",
      "vowel i :185\n",
      "vowel i :202\n",
      "vowel i :257\n",
      "vowel i :265\n",
      "vowel i :273\n",
      "vowel i :323\n",
      "vowel i :375\n",
      "vowel i :378\n",
      "vowel i :386\n",
      "vowel o :3\n",
      "vowel o :8\n",
      "vowel o :12\n",
      "vowel o :35\n",
      "vowel o :42\n",
      "vowel o :69\n",
      "vowel o :95\n",
      "vowel o :98\n",
      "vowel o :115\n",
      "vowel o :116\n",
      "vowel o :127\n",
      "vowel o :131\n",
      "vowel o :150\n",
      "vowel o :158\n",
      "vowel o :161\n",
      "vowel o :169\n",
      "vowel o :173\n",
      "vowel o :186\n",
      "vowel o :224\n",
      "vowel o :228\n",
      "vowel o :237\n",
      "vowel o :244\n",
      "vowel o :274\n",
      "vowel o :277\n",
      "vowel o :294\n",
      "vowel o :295\n",
      "vowel o :300\n",
      "vowel o :310\n",
      "vowel o :318\n",
      "vowel o :340\n",
      "vowel o :344\n",
      "vowel o :348\n",
      "vowel o :362\n",
      "vowel o :368\n",
      "vowel o :391\n",
      "vowel o :395\n",
      "vowel u :80\n",
      "vowel u :182\n",
      "vowel u :301\n",
      "vowel u :341\n",
      "vowel u :369\n"
     ]
    }
   ],
   "source": [
    "for vowel in \"aeiou\":\n",
    "    start=0\n",
    "    while True:\n",
    "        pos=long_msg.find(vowel,start)\n",
    "        start=pos+1\n",
    "        if pos==-1:\n",
    "            break\n",
    "        print(f\"vowel {vowel} :{pos}\")\n"
   ]
  },
  {
   "cell_type": "code",
   "execution_count": 10,
   "metadata": {},
   "outputs": [
    {
     "name": "stdout",
     "output_type": "stream",
     "text": [
      "Aluyufgu\n",
      "numeric: False\n",
      "alphabets: True\n",
      "alphanumeric: True\n",
      "only spaces: False\n",
      "only uppercase: False\n",
      "only lowercase: False\n",
      "capitalized: True\n",
      "Decimal numers: False\n"
     ]
    }
   ],
   "source": [
    "msg=input(\"Enter anything\")\n",
    "print(msg)\n",
    "print(\"numeric:\",msg.isnumeric())\n",
    "print(\"alphabets:\",msg.isalpha())\n",
    "print(\"alphanumeric:\",msg.isalnum())\n",
    "print(\"only spaces:\",msg.isspace())\n",
    "print(\"only uppercase:\",msg.isupper())\n",
    "print(\"only lowercase:\",msg.islower())\n",
    "print(\"capitalized:\",msg.istitle())\n",
    "print(\"Decimal numers:\",msg.isdecimal())"
   ]
  },
  {
   "cell_type": "markdown",
   "metadata": {},
   "source": [
    "- Count the number of vowels in a string"
   ]
  },
  {
   "cell_type": "code",
   "execution_count": 18,
   "metadata": {},
   "outputs": [
    {
     "name": "stdout",
     "output_type": "stream",
     "text": [
      "a : 29\n",
      "e : 45\n",
      "i : 14\n",
      "o : 36\n",
      "u : 5\n"
     ]
    }
   ],
   "source": [
    "vowels=\"aeiou\"\n",
    "for v in vowels:\n",
    "    c=long_msg.count(v)\n",
    "    print(f\"{v} : {c}\")\n"
   ]
  },
  {
   "cell_type": "markdown",
   "metadata": {},
   "source": [
    "- Remove vowel from the string"
   ]
  },
  {
   "cell_type": "code",
   "execution_count": 45,
   "metadata": {},
   "outputs": [
    {
     "name": "stdout",
     "output_type": "stream",
     "text": [
      "Bfr dwnldng, pls tk  mmnt t rvw th Hrdwr nd Sftwr rqrmnts sctn f th sr Hndbk.\n",
      "Slct n f th pckgs blw nd fllw th dwnld nstrctns.\n",
      "nc  Jnkns pckg hs bn dwnldd, prcd t th nstllng Jnkns sctn f th sr Hndbk.\n",
      "Y my ls wnt t vrfy th pckg y dwnldd. Lrn mr bt vrfyng Jnkns dwnlds.\n"
     ]
    }
   ],
   "source": [
    "msg=long_msg #copy the string\n",
    "vowels=\"aeiouAEIOU\"\n",
    "for v in vowels:\n",
    "    msg=msg.replace(v,'')\n",
    "print(msg)"
   ]
  },
  {
   "cell_type": "code",
   "execution_count": 28,
   "metadata": {},
   "outputs": [
    {
     "name": "stdout",
     "output_type": "stream",
     "text": [
      "['Before', 'downloading,', 'please', 'take', 'a']\n"
     ]
    }
   ],
   "source": [
    "word_count=int(input(\"How many words?\"))\n",
    "words=long_msg.split()[:word_count]\n",
    "print(words)"
   ]
  },
  {
   "cell_type": "code",
   "execution_count": 2,
   "metadata": {},
   "outputs": [
    {
     "data": {
      "text/plain": [
       "10"
      ]
     },
     "execution_count": 2,
     "metadata": {},
     "output_type": "execute_result"
    }
   ],
   "source": [
    "len('jjjjjjjjjj')"
   ]
  },
  {
   "cell_type": "code",
   "execution_count": 4,
   "metadata": {},
   "outputs": [
    {
     "name": "stdout",
     "output_type": "stream",
     "text": [
      "Before\n",
      "Before 6\n",
      "downloading,\n",
      "downloading, 12\n",
      "please\n",
      "please 6\n",
      "take\n",
      "take 4\n",
      "a\n",
      "a 1\n",
      "moment\n",
      "moment 6\n",
      "to\n",
      "to 2\n",
      "review\n",
      "review 6\n",
      "the\n",
      "the 3\n",
      "Hardware\n",
      "Hardware 8\n",
      "and\n",
      "and 3\n",
      "Software\n",
      "Software 8\n",
      "requirements\n",
      "requirements 12\n",
      "section\n",
      "section 7\n",
      "of\n",
      "of 2\n",
      "the\n",
      "the 3\n",
      "User\n",
      "User 4\n",
      "Handbook.\n",
      "Handbook. 9\n",
      "Select\n",
      "Select 6\n",
      "one\n",
      "one 3\n",
      "of\n",
      "of 2\n",
      "the\n",
      "the 3\n",
      "packages\n",
      "packages 8\n",
      "below\n",
      "below 5\n",
      "and\n",
      "and 3\n",
      "follow\n",
      "follow 6\n",
      "the\n",
      "the 3\n",
      "download\n",
      "download 8\n",
      "instructions.\n",
      "instructions. 13\n",
      "Once\n",
      "Once 4\n",
      "a\n",
      "a 1\n",
      "Jenkins\n",
      "Jenkins 7\n",
      "package\n",
      "package 7\n",
      "has\n",
      "has 3\n",
      "been\n",
      "been 4\n",
      "downloaded,\n",
      "downloaded, 11\n",
      "proceed\n",
      "proceed 7\n",
      "to\n",
      "to 2\n",
      "the\n",
      "the 3\n",
      "Installing\n",
      "Installing 10\n",
      "Jenkins\n",
      "Jenkins 7\n",
      "section\n",
      "section 7\n",
      "of\n",
      "of 2\n",
      "the\n",
      "the 3\n",
      "User\n",
      "User 4\n",
      "Handbook.\n",
      "Handbook. 9\n",
      "You\n",
      "You 3\n",
      "may\n",
      "may 3\n",
      "also\n",
      "also 4\n",
      "want\n",
      "want 4\n",
      "to\n",
      "to 2\n",
      "verify\n",
      "verify 6\n",
      "the\n",
      "the 3\n",
      "package\n",
      "package 7\n",
      "you\n",
      "you 3\n",
      "downloaded.\n",
      "downloaded. 11\n",
      "Learn\n",
      "Learn 5\n",
      "more\n",
      "more 4\n",
      "about\n",
      "about 5\n",
      "verifying\n",
      "verifying 9\n",
      "Jenkins\n",
      "Jenkins 7\n",
      "downloads.\n",
      "downloads. 10\n",
      "Biggest word is instructions. with 13 characters\n"
     ]
    }
   ],
   "source": [
    "m=0\n",
    "w=0\n",
    "for word in long_msg.split():\n",
    "    print(word)\n",
    "    print(word, len(word))\n",
    "    if len(word)>m:\n",
    "        m=len(word)\n",
    "        w=word\n",
    "print(f\"Biggest word is {w} with {m} characters\")"
   ]
  },
  {
   "cell_type": "code",
   "execution_count": null,
   "metadata": {},
   "outputs": [],
   "source": []
  }
 ],
 "metadata": {
  "kernelspec": {
   "display_name": "Python 3.9.12 ('base')",
   "language": "python",
   "name": "python3"
  },
  "language_info": {
   "codemirror_mode": {
    "name": "ipython",
    "version": 3
   },
   "file_extension": ".py",
   "mimetype": "text/x-python",
   "name": "python",
   "nbconvert_exporter": "python",
   "pygments_lexer": "ipython3",
   "version": "3.9.12"
  },
  "orig_nbformat": 4,
  "vscode": {
   "interpreter": {
    "hash": "861f9c34f7302a1aedb62edfc1533c524ce2793735e6b405602ea89eb9cb2484"
   }
  }
 },
 "nbformat": 4,
 "nbformat_minor": 2
}
